{
 "cells": [
  {
   "cell_type": "code",
   "execution_count": 2,
   "metadata": {},
   "outputs": [],
   "source": [
    "import os\n",
    "from ALB_instance_tools import *\n",
    "from MALBP_instance_generation import *"
   ]
  },
  {
   "cell_type": "markdown",
   "metadata": {},
   "source": [
    "## Making model instances"
   ]
  },
  {
   "cell_type": "markdown",
   "metadata": {},
   "source": [
    "Making model instances by grouping together SALBP benchmark instances"
   ]
  },
  {
   "cell_type": "code",
   "execution_count": 6,
   "metadata": {},
   "outputs": [
    {
     "name": "stdout",
     "output_type": "stream",
     "text": [
      "['SALBP_benchmark/small data set_n=20/instance_n=20_474.alb', 'SALBP_benchmark/small data set_n=20/instance_n=20_475.alb', 'SALBP_benchmark/small data set_n=20/instance_n=20_476.alb', 'SALBP_benchmark/small data set_n=20/instance_n=20_477.alb', 'SALBP_benchmark/small data set_n=20/instance_n=20_478.alb', 'SALBP_benchmark/small data set_n=20/instance_n=20_479.alb', 'SALBP_benchmark/small data set_n=20/instance_n=20_480.alb', 'SALBP_benchmark/small data set_n=20/instance_n=20_481.alb', 'SALBP_benchmark/small data set_n=20/instance_n=20_482.alb', 'SALBP_benchmark/small data set_n=20/instance_n=20_483.alb', 'SALBP_benchmark/small data set_n=20/instance_n=20_484.alb', 'SALBP_benchmark/small data set_n=20/instance_n=20_485.alb', 'SALBP_benchmark/small data set_n=20/instance_n=20_486.alb', 'SALBP_benchmark/small data set_n=20/instance_n=20_487.alb', 'SALBP_benchmark/small data set_n=20/instance_n=20_488.alb', 'SALBP_benchmark/small data set_n=20/instance_n=20_489.alb', 'SALBP_benchmark/small data set_n=20/instance_n=20_490.alb', 'SALBP_benchmark/small data set_n=20/instance_n=20_491.alb', 'SALBP_benchmark/small data set_n=20/instance_n=20_492.alb', 'SALBP_benchmark/small data set_n=20/instance_n=20_493.alb', 'SALBP_benchmark/small data set_n=20/instance_n=20_494.alb']\n"
     ]
    }
   ],
   "source": [
    "#instance_groups = pair_instances(instances, MODEL_MIXTURES)\n",
    "\n",
    "instance_list = read_instance_folder(\"SALBP_benchmark/small data set_n=20/\")[473:494]\n",
    "print(instance_list)\n",
    "model_names = ['A', 'B']\n",
    "cycle_time = 1000\n",
    "fp = f'MM_instances/SALBP_grouping/20_tasks/{len(model_names)}_models/'\n",
    "#if filepath does not exist, create it\n",
    "# if not os.path.exists(fp):\n",
    "#     os.makedirs(fp)\n",
    "# make_instances(fp,instance_list, model_names, cycle_time=cycle_time,  seed=None)"
   ]
  },
  {
   "cell_type": "markdown",
   "metadata": {},
   "source": [
    "Making model instances by taking one SALBP instance and randomly deleting tasks from it"
   ]
  },
  {
   "cell_type": "code",
   "execution_count": 3,
   "metadata": {},
   "outputs": [],
   "source": [
    "instance_list = read_instance_folder(\"SALBP_benchmark/small data set_n=20/\")[:5]\n",
    "model_names = ['A', 'B']\n",
    "cycle_time = 1000\n",
    "fp = f'MM_instances/reduced_from_one/{len(model_names)}_models/'\n",
    "#if filepath does not exist, create it\n",
    "# if not os.path.exists(fp):\n",
    "#     os.makedirs(fp)\n",
    "# make_reduced_from_one_instance(fp,instance_list, model_names, cycle_time=cycle_time, to_reduce = {'A':5, 'B':10}, seed=None, shared_root=True)"
   ]
  },
  {
   "cell_type": "code",
   "execution_count": 4,
   "metadata": {},
   "outputs": [],
   "source": [
    "instance_list = read_instance_folder(\"SALBP_benchmark/medium data set_n=50/\")[431:445]\n",
    "model_names = ['A', 'B', 'C']\n",
    "cycle_time = 1000\n",
    "fp = f'MM_instances/50_45_40_tasks/{len(model_names)}_models/'\n",
    "reduction_amount = {'C':0,'A':5, 'B':10}\n",
    "perturbation = {'C':{\"num_tasks\":20, \"lower_bound\": 0.05, \"upper_bound\": 0.20}, 'A':{\"num_tasks\":5, \"lower_bound\": 0.15, \"upper_bound\": 0.20}, 'B':{\"num_tasks\":10, \"lower_bound\": 0.05, \"upper_bound\": 0.15}}\n",
    "#if filepath does not exist, create it\n",
    "# if not os.path.exists(fp):\n",
    "#     os.makedirs(fp)\n",
    "# make_reduced_from_one_instance_task_time_perturbation(fp,instance_list, model_names, perturbation_amount=perturbation, cycle_time=cycle_time, to_reduce = reduction_amount, seed=None, shared_root=True)"
   ]
  },
  {
   "cell_type": "markdown",
   "metadata": {},
   "source": [
    "### Generating small instances for easier debugging"
   ]
  },
  {
   "cell_type": "code",
   "execution_count": 3,
   "metadata": {},
   "outputs": [
    {
     "name": "stdout",
     "output_type": "stream",
     "text": [
      "A\n",
      "[['4', '15'], ['10', '18']]\n",
      "num_of tasks 4\n",
      "B\n",
      "[['4', '18']]\n",
      "num_of tasks 4\n",
      "A\n",
      "[['2', '11'], ['8', '19']]\n",
      "num_of tasks 4\n",
      "B\n",
      "[['2', '19'], ['8', '19']]\n",
      "num_of tasks 4\n",
      "A\n",
      "[['3', '8'], ['3', '11']]\n",
      "num_of tasks 4\n",
      "B\n",
      "[['2', '11'], ['3', '8']]\n",
      "num_of tasks 4\n",
      "A\n",
      "[['11', '14'], ['7', '11']]\n",
      "num_of tasks 4\n",
      "B\n",
      "[['11', '14']]\n",
      "num_of tasks 4\n"
     ]
    }
   ],
   "source": [
    "instance_list = read_instance_folder(\"SALBP_benchmark/small data set_n=20/\")[:5]\n",
    "model_names = ['A', 'B']\n",
    "cycle_time = 500\n",
    "fp = f'MM_instances/debugging_instances/{len(model_names)}_models_4tasks/'\n",
    "#if filepath does not exist, create it\n",
    "if not os.path.exists(fp):\n",
    "    os.makedirs(fp)\n",
    "make_reduced_instances(fp,instance_list, model_names, cycle_time=cycle_time, interval_choice=(.8,.8), seed=None)"
   ]
  },
  {
   "cell_type": "markdown",
   "metadata": {},
   "source": [
    "## Mixed Model Metrics"
   ]
  },
  {
   "cell_type": "code",
   "execution_count": null,
   "metadata": {},
   "outputs": [
    {
     "name": "stdout",
     "output_type": "stream",
     "text": [
      "using this file MM_instances/20_tasks/2_models/n=20_1_n=20_1.yaml\n"
     ]
    }
   ],
   "source": [
    "test_instance = MixedModelInstance(model_yaml='MM_instances/20_tasks/2_models/n=20_1_n=20_1.yaml', init_type='yaml')"
   ]
  },
  {
   "cell_type": "code",
   "execution_count": null,
   "metadata": {},
   "outputs": [],
   "source": []
  }
 ],
 "metadata": {
  "kernelspec": {
   "display_name": "base",
   "language": "python",
   "name": "python3"
  },
  "language_info": {
   "codemirror_mode": {
    "name": "ipython",
    "version": 3
   },
   "file_extension": ".py",
   "mimetype": "text/x-python",
   "name": "python",
   "nbconvert_exporter": "python",
   "pygments_lexer": "ipython3",
   "version": "3.12.3"
  },
  "orig_nbformat": 4
 },
 "nbformat": 4,
 "nbformat_minor": 2
}
